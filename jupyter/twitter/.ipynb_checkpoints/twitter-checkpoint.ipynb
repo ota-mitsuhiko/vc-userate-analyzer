{
 "cells": [
  {
   "cell_type": "code",
   "execution_count": 1,
   "metadata": {},
   "outputs": [],
   "source": [
    "import os\n",
    "import tweepy\n",
    "import pandas as pd\n",
    "import numpy as np\n",
    "from dotenv import load_dotenv\n",
    "from sudachipy import tokenizer\n",
    "from sudachipy import dictionary\n",
    "from datetime import datetime\n"
   ]
  },
  {
   "cell_type": "code",
   "execution_count": 2,
   "metadata": {},
   "outputs": [],
   "source": [
    "load_dotenv()\n",
    "api_key = os.environ[\"TWITTER_API_KEY\"]\n",
    "api_secret = os.environ[\"TWITTER_API_SECRET\"]\n",
    "access_token = os.environ[\"TWITTER_API_ACCESS_TOKEN\"]\n",
    "access_token_secret = os.environ[\"TWITTER_API_ACCESS_TOKEN_SECRET\"]\n",
    "auth = tweepy.OAuthHandler(api_key, api_secret)\n",
    "auth.set_access_token(access_token, access_token_secret)\n",
    "api = tweepy.API(auth)\n",
    "tokenizer_obj = dictionary.Dictionary(dict_type=\"full\").create()\n"
   ]
  },
  {
   "cell_type": "code",
   "execution_count": 3,
   "metadata": {},
   "outputs": [],
   "source": [
    "statuses = api.user_timeline(user_id=\"@kiryutantan\", count=100)\n"
   ]
  },
  {
   "cell_type": "code",
   "execution_count": 4,
   "metadata": {},
   "outputs": [],
   "source": [
    "statuses_json_list = list(map(lambda x: x._json, statuses))\n",
    "\n",
    "# def convert_to_datetime(datetime_str):\n",
    "#   tweet_datetime = datetime.strptime(datetime_str, '%a %b %d %H:%M:%S %z %Y')\n",
    "#   return tweet_datetime\n",
    "\n",
    "# for i in range(len(statuses_json_list)):\n",
    "#   statuses_json_list[i][\"created_at\"] = convert_to_datetime(statuses_json_list[i][\"created_at\"])\n",
    "\n",
    "status_df = pd.json_normalize(statuses_json_list)\n",
    "\n",
    "a = status_df.created_at[0]"
   ]
  },
  {
   "cell_type": "code",
   "execution_count": 5,
   "metadata": {},
   "outputs": [],
   "source": [
    "df.to_csv(\"pandas_test.csv\")\n",
    "# statuses_json_list_with_datetime = list(map(lambda x: x._json, statuses))\n",
    "\n",
    "# def convert_to_datetime(datetime_str):\n",
    "#   tweet_datetime = datetime.strptime(datetime_str, '%a %b %d %H:%M:%S %z %Y')\n",
    "#   return tweet_datetime\n",
    "\n",
    "# for i in range(len(statuses_json_list)):\n",
    "#   statuses_json_list_with_datetime[i][\"created_at\"] = convert_to_datetime(\n",
    "#       statuses_json_list_with_datetime[i][\"created_at\"])"
   ]
  },
  {
   "cell_type": "code",
   "execution_count": null,
   "metadata": {},
   "outputs": [],
   "source": []
  }
 ],
 "metadata": {
  "interpreter": {
   "hash": "af5742a37d5b68c9fd063a4334e7dcd1970c6ca44f6560192966ccaafb7f8736"
  },
  "kernelspec": {
   "display_name": "Python 3 (ipykernel)",
   "language": "python",
   "name": "python3"
  },
  "language_info": {
   "codemirror_mode": {
    "name": "ipython",
    "version": 3
   },
   "file_extension": ".py",
   "mimetype": "text/x-python",
   "name": "python",
   "nbconvert_exporter": "python",
   "pygments_lexer": "ipython3",
   "version": "3.10.0"
  }
 },
 "nbformat": 4,
 "nbformat_minor": 2
}
