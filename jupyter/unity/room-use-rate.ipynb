{
 "cells": [
  {
   "cell_type": "code",
   "execution_count": 42,
   "metadata": {},
   "outputs": [],
   "source": [
    "import pandas as pd\n",
    "import json"
   ]
  },
  {
   "cell_type": "code",
   "execution_count": 43,
   "metadata": {},
   "outputs": [],
   "source": [
    "res = []\n",
    "decoder = json.JSONDecoder()\n",
    "with open(\"./use-rate/total\") as f:\n",
    "    data = f.readlines()\n",
    "    for d in data:\n",
    "        res.append(decoder.raw_decode(d)[0])"
   ]
  },
  {
   "cell_type": "code",
   "execution_count": 44,
   "metadata": {},
   "outputs": [],
   "source": [
    "unity_df = pd.DataFrame(res)\n",
    "\n",
    "res = []\n",
    "for df in unity_df[\"custom_params\"]:\n",
    "    res.append(df)\n",
    "unity_custom_params_df = pd.DataFrame(res)"
   ]
  },
  {
   "cell_type": "code",
   "execution_count": 45,
   "metadata": {},
   "outputs": [],
   "source": [
    "unity_custom_params_df[\"minutes\"] = pd.to_numeric(unity_custom_params_df[\"minutes\"])\n",
    "room_df = unity_custom_params_df.query('minutes > 0 and room == room')[['minutes','room']] # 欠損値（Nan）を無視\n",
    "# ('minutes > 0 and room == room') の room2つと、\n",
    "# [['minutes','room']]のroomを知りたい値に変えると任意のパラメータの使用状況が算出されます。"
   ]
  },
  {
   "cell_type": "code",
   "execution_count": 46,
   "metadata": {},
   "outputs": [],
   "source": [
    "room_df.to_csv(\"unity_userate_analyze.csv\")"
   ]
  }
 ],
 "metadata": {
  "interpreter": {
   "hash": "af5742a37d5b68c9fd063a4334e7dcd1970c6ca44f6560192966ccaafb7f8736"
  },
  "kernelspec": {
   "display_name": "Python 3.10.0 64-bit ('vc-use-rate': pyenv)",
   "name": "python3"
  },
  "language_info": {
   "codemirror_mode": {
    "name": "ipython",
    "version": 3
   },
   "file_extension": ".py",
   "mimetype": "text/x-python",
   "name": "python",
   "nbconvert_exporter": "python",
   "pygments_lexer": "ipython3",
   "version": "3.8.12"
  },
  "orig_nbformat": 4
 },
 "nbformat": 4,
 "nbformat_minor": 2
}
